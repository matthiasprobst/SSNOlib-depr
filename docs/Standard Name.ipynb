{
 "cells": [
  {
   "cell_type": "markdown",
   "id": "0694f7a3-0067-430c-809b-356296f40df7",
   "metadata": {},
   "source": [
    "# Standard Name"
   ]
  },
  {
   "cell_type": "code",
   "execution_count": 1,
   "id": "4ea80d82-7157-4d6f-b86d-ea8735353447",
   "metadata": {},
   "outputs": [],
   "source": [
    "import ssnolib"
   ]
  },
  {
   "cell_type": "markdown",
   "id": "4ba9ae64-28d0-49e3-90af-615354333769",
   "metadata": {},
   "source": [
    "Create a standard name. As a minimum, `standard_name`, `canonical_units` and `description` must be provided:"
   ]
  },
  {
   "cell_type": "code",
   "execution_count": 2,
   "id": "90e8645c-e92c-4dc9-80c2-0878d95ae1bd",
   "metadata": {},
   "outputs": [],
   "source": [
    "sn = ssnolib.StandardName(\n",
    "    standard_name='x_velocity',\n",
    "    canonical_units='m/s',\n",
    "    description='The velocity in x-axis direction'\n",
    ")"
   ]
  },
  {
   "cell_type": "code",
   "execution_count": 4,
   "id": "ae3a9df3-b98d-4f3b-9afd-85d4b65bb9a4",
   "metadata": {},
   "outputs": [
    {
     "name": "stdout",
     "output_type": "stream",
     "text": [
      "{\n",
      "    \"@context\": {\n",
      "        \"@import\": \"https://raw.githubusercontent.com/matthiasprobst/ssno/main/ssno_context.jsonld\"\n",
      "    },\n",
      "    \"@id\": \"_:\",\n",
      "    \"@type\": \"StandardName\",\n",
      "    \"canonical units\": \"m/s\",\n",
      "    \"description\": \"The velocity in x-axis direction\",\n",
      "    \"standard name\": \"x_velocity\"\n",
      "}\n"
     ]
    }
   ],
   "source": [
    "print(sn.dump_jsonld())"
   ]
  },
  {
   "cell_type": "code",
   "execution_count": null,
   "id": "161fd58b-4ef3-46ad-9e6d-7d6164387a62",
   "metadata": {},
   "outputs": [],
   "source": []
  }
 ],
 "metadata": {
  "kernelspec": {
   "display_name": "Python 3 (ipykernel)",
   "language": "python",
   "name": "python3"
  },
  "language_info": {
   "codemirror_mode": {
    "name": "ipython",
    "version": 3
   },
   "file_extension": ".py",
   "mimetype": "text/x-python",
   "name": "python",
   "nbconvert_exporter": "python",
   "pygments_lexer": "ipython3",
   "version": "3.8.18"
  }
 },
 "nbformat": 4,
 "nbformat_minor": 5
}
